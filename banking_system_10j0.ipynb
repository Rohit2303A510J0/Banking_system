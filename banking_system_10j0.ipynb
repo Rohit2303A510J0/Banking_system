{
  "nbformat": 4,
  "nbformat_minor": 0,
  "metadata": {
    "colab": {
      "provenance": [],
      "authorship_tag": "ABX9TyMS1sCmMhiE6xC3rL99JX/R",
      "include_colab_link": true
    },
    "kernelspec": {
      "name": "python3",
      "display_name": "Python 3"
    },
    "language_info": {
      "name": "python"
    }
  },
  "cells": [
    {
      "cell_type": "markdown",
      "metadata": {
        "id": "view-in-github",
        "colab_type": "text"
      },
      "source": [
        "<a href=\"https://colab.research.google.com/github/Rohit2303A510J0/Banking_system/blob/main/banking_system_10j0.ipynb\" target=\"_parent\"><img src=\"https://colab.research.google.com/assets/colab-badge.svg\" alt=\"Open In Colab\"/></a>"
      ]
    },
    {
      "cell_type": "code",
      "execution_count": 3,
      "metadata": {
        "id": "6nuM0M6Inp8P"
      },
      "outputs": [],
      "source": [
        "\n",
        "# Banking System using OOP + Unit Testing - ASSIGNMENT-8(SESD)\n",
        "\n",
        "\n",
        "# This system models a simple bank with:\n",
        "# - Account (base class)\n",
        "# - SavingsAccount (child class)\n",
        "# - CurrentAccount (child class)\n",
        "# - Transaction (for transfers)\n",
        "# And includes unit tests to verify key operations.\n",
        "\n",
        "\n",
        "# CLASS DESIGN\n",
        "\n",
        "\n",
        "class Account:\n",
        "    \"\"\"Base class representing a general bank account.\"\"\"\n",
        "\n",
        "    def __init__(self, acc_number, acc_holder, balance=0.0):\n",
        "        self.acc_number = acc_number\n",
        "        self.acc_holder = acc_holder\n",
        "        self.balance = balance\n",
        "\n",
        "    def deposit(self, amount):\n",
        "        \"\"\"Deposit a positive amount into the account.\"\"\"\n",
        "        if amount <= 0:\n",
        "            raise ValueError(\"Deposit amount must be positive.\")\n",
        "        self.balance += amount\n",
        "        return self.balance\n",
        "\n",
        "    def withdraw(self, amount):\n",
        "        \"\"\"Withdraw amount if sufficient balance is available.\"\"\"\n",
        "        if amount <= 0:\n",
        "            raise ValueError(\"Withdrawal amount must be positive.\")\n",
        "        if amount > self.balance:\n",
        "            raise ValueError(\"Insufficient funds.\")\n",
        "        self.balance -= amount\n",
        "        return self.balance\n",
        "\n",
        "    def get_balance(self):\n",
        "        \"\"\"Return current account balance.\"\"\"\n",
        "        return self.balance\n",
        "\n",
        "\n",
        "class SavingsAccount(Account):\n",
        "    \"\"\"Represents a Savings account that earns interest.\"\"\"\n",
        "\n",
        "    def __init__(self, acc_number, acc_holder, balance=0.0, interest_rate=0.05):\n",
        "        super().__init__(acc_number, acc_holder, balance)\n",
        "        self.interest_rate = interest_rate\n",
        "\n",
        "    def apply_interest(self):\n",
        "        \"\"\"Apply interest to the balance (specific to savings accounts).\"\"\"\n",
        "        interest = self.balance * self.interest_rate\n",
        "        self.balance += interest\n",
        "        return round(self.balance, 2)\n",
        "\n",
        "\n",
        "class CurrentAccount(Account):\n",
        "    \"\"\"Represents a Current account (no interest).\"\"\"\n",
        "    pass\n",
        "\n",
        "\n",
        "class Transaction:\n",
        "    \"\"\"Handles transfer operations between two accounts.\"\"\"\n",
        "\n",
        "    @staticmethod\n",
        "    def transfer(sender, receiver, amount):\n",
        "        \"\"\"Transfer money from sender to receiver.\"\"\"\n",
        "        if amount <= 0:\n",
        "            raise ValueError(\"Transfer amount must be positive.\")\n",
        "        sender.withdraw(amount)\n",
        "        receiver.deposit(amount)\n",
        "        return True"
      ]
    },
    {
      "cell_type": "code",
      "source": [
        "# UNIT TESTING USING unittest\n",
        "\n",
        "\n",
        "import unittest\n",
        "\n",
        "class TestBankingSystem(unittest.TestCase):\n",
        "\n",
        "    def setUp(self):\n",
        "        \"\"\"Create sample accounts before each test.\"\"\"\n",
        "        self.savings = SavingsAccount(\"S001\", \"Alice\", 1000.0, 0.10)\n",
        "        self.current = CurrentAccount(\"C001\", \"Bob\", 500.0)\n",
        "\n",
        "    # --- Deposit Tests ---\n",
        "    def test_deposit_valid_amount(self):\n",
        "        self.savings.deposit(200)\n",
        "        self.assertEqual(self.savings.get_balance(), 1200.0)\n",
        "\n",
        "    def test_deposit_invalid_amount(self):\n",
        "        with self.assertRaises(ValueError):\n",
        "            self.current.deposit(-100)\n",
        "\n",
        "    # --- Withdrawal Tests ---\n",
        "    def test_withdraw_valid_amount(self):\n",
        "        self.current.withdraw(200)\n",
        "        self.assertEqual(self.current.get_balance(), 300.0)\n",
        "\n",
        "    def test_withdraw_insufficient_balance(self):\n",
        "        with self.assertRaises(ValueError):\n",
        "            self.current.withdraw(800)\n",
        "\n",
        "    # --- Transfer Tests ---\n",
        "    def test_transfer_valid(self):\n",
        "        Transaction.transfer(self.savings, self.current, 300)\n",
        "        self.assertEqual(self.savings.get_balance(), 700.0)\n",
        "        self.assertEqual(self.current.get_balance(), 800.0)\n",
        "\n",
        "    def test_transfer_negative_amount(self):\n",
        "        with self.assertRaises(ValueError):\n",
        "            Transaction.transfer(self.savings, self.current, -50)\n",
        "\n",
        "    # --- Interest Calculation ---\n",
        "    def test_interest_applied_only_to_savings(self):\n",
        "        self.savings.apply_interest()\n",
        "        self.assertEqual(self.savings.get_balance(), 1100.0)  # 10% interest applied\n",
        "\n",
        "    def test_current_account_no_interest_method(self):\n",
        "        with self.assertRaises(AttributeError):\n",
        "            self.current.apply_interest()\n",
        "\n",
        "\n",
        "# Run all tests\n",
        "if __name__ == \"__main__\":\n",
        "    unittest.main(argv=[''], exit=False)\n"
      ],
      "metadata": {
        "colab": {
          "base_uri": "https://localhost:8080/"
        },
        "id": "wCYsPBeJoAsl",
        "outputId": "7b8d08dc-14a0-49c7-c772-b6b21856eb86"
      },
      "execution_count": 4,
      "outputs": [
        {
          "output_type": "stream",
          "name": "stderr",
          "text": [
            "........\n",
            "----------------------------------------------------------------------\n",
            "Ran 8 tests in 0.007s\n",
            "\n",
            "OK\n"
          ]
        }
      ]
    }
  ]
}